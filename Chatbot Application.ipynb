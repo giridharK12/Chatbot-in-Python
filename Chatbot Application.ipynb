{
 "cells": [
  {
   "cell_type": "markdown",
   "id": "37fc9099",
   "metadata": {},
   "source": [
    "# Chatbot Application"
   ]
  },
  {
   "cell_type": "code",
   "execution_count": null,
   "id": "a7a331ca",
   "metadata": {},
   "outputs": [
    {
     "name": "stdout",
     "output_type": "stream",
     "text": [
      "Chatbot: Hello! How can I assist you today?\n"
     ]
    }
   ],
   "source": [
    "import nltk\n",
    "from nltk.chat.util import Chat, reflections\n",
    "\n",
    "pairs = [\n",
    "    [\"hi|hello\", [\"Hello!\", \"Hi there!\", \"How can I help you?\"]],\n",
    "    [\"what is your name?\", [\"You can call me Chatbot.\", \"I'm just a simple chatbot.\"]],\n",
    "    [\"how are you?\", [\"I'm good, thank you!\", \"Feeling fine, thanks for asking.\"]],\n",
    "    [\"bye|goodbye\", [\"Goodbye!\", \"Bye! Take care.\"]],\n",
    "]\n",
    "\n",
    "chatbot = Chat(pairs, reflections)\n",
    "\n",
    "def chat_with_bot():\n",
    "    print(\"Chatbot: Hello! How can I assist you today?\")\n",
    "    while True:\n",
    "        user_input = input(\"You: \")\n",
    "        response = chatbot.respond(user_input)\n",
    "        print(\"Chatbot:\", response)\n",
    "        if user_input.lower() == \"bye\":\n",
    "            break\n",
    "\n",
    "# Example usage:\n",
    "chat_with_bot()\n"
   ]
  },
  {
   "cell_type": "code",
   "execution_count": null,
   "id": "3949c4ac",
   "metadata": {},
   "outputs": [],
   "source": []
  },
  {
   "cell_type": "code",
   "execution_count": null,
   "id": "7b71f64a",
   "metadata": {},
   "outputs": [],
   "source": []
  },
  {
   "cell_type": "code",
   "execution_count": null,
   "id": "c2f6154b",
   "metadata": {},
   "outputs": [],
   "source": []
  },
  {
   "cell_type": "code",
   "execution_count": null,
   "id": "7a86b704",
   "metadata": {},
   "outputs": [],
   "source": []
  },
  {
   "cell_type": "code",
   "execution_count": null,
   "id": "bf005a23",
   "metadata": {},
   "outputs": [],
   "source": []
  }
 ],
 "metadata": {
  "kernelspec": {
   "display_name": "Python 3 (ipykernel)",
   "language": "python",
   "name": "python3"
  },
  "language_info": {
   "codemirror_mode": {
    "name": "ipython",
    "version": 3
   },
   "file_extension": ".py",
   "mimetype": "text/x-python",
   "name": "python",
   "nbconvert_exporter": "python",
   "pygments_lexer": "ipython3",
   "version": "3.11.5"
  }
 },
 "nbformat": 4,
 "nbformat_minor": 5
}
